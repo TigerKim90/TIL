{
 "cells": [
  {
   "cell_type": "code",
   "execution_count": 6,
   "metadata": {},
   "outputs": [
    {
     "name": "stdout",
     "output_type": "stream",
     "text": [
      "6\n"
     ]
    }
   ],
   "source": [
    "def my_sum(a, b, c):\n",
    "    result = a + b + c\n",
    "    return result\n",
    "\n",
    "\n",
    "sum_result = my_sum(1,2,3)\n",
    "print(sum_result)\n"
   ]
  },
  {
   "cell_type": "code",
   "execution_count": 10,
   "metadata": {},
   "outputs": [
    {
     "name": "stdout",
     "output_type": "stream",
     "text": [
      "결과 값은 :3\n"
     ]
    }
   ],
   "source": [
    "#인자의 개수가 가변적일때?\n",
    "\n",
    "def my_sum(*tmp): # Tuple로 인자를 받는다\n",
    "    result = 0\n",
    "    for t in tmp:\n",
    "        result += t\n",
    "    return result\n",
    "\n",
    "print('결과 값은 :{}'.format(my_sum(1,2)))"
   ]
  },
  {
   "cell_type": "code",
   "execution_count": 16,
   "metadata": {},
   "outputs": [
    {
     "name": "stdout",
     "output_type": "stream",
     "text": [
      "(30, 200)\n",
      "<class 'tuple'>\n",
      "30\n",
      "200\n"
     ]
    }
   ],
   "source": [
    "# 여러개의 값을 리턴하는 함수 \n",
    "# Tuple 값으로 나온다.\n",
    "\n",
    "def multi_return(a,b):\n",
    "    result1 = a + b\n",
    "    result2 = a * b\n",
    "    return result1, result2\n",
    "\n",
    "data1 = multi_return(10,20)\n",
    "print(data1)\n",
    "print(type(data1))\n",
    "\n",
    "data1, data2 = multi_return(10,20)\n",
    "print(data1)\n",
    "print(data2)\n"
   ]
  },
  {
   "cell_type": "code",
   "execution_count": 19,
   "metadata": {},
   "outputs": [
    {
     "name": "stdout",
     "output_type": "stream",
     "text": [
      "200\n"
     ]
    }
   ],
   "source": [
    "# default parameter\n",
    " \n",
    "def default_param(a, b, c=False): #마지막 값(c만 먼저 default로 지정 가능)\n",
    "    if c:\n",
    "        result = a + b\n",
    "    else:\n",
    "        result = a * b\n",
    "    return result\n",
    "\n",
    "print(default_param(10,20,False))\n",
    "    "
   ]
  },
  {
   "cell_type": "code",
   "execution_count": 22,
   "metadata": {},
   "outputs": [
    {
     "name": "stdout",
     "output_type": "stream",
     "text": [
      "data_x : 10\n",
      "data_list : [10, 20, 100]\n"
     ]
    }
   ],
   "source": [
    "# call-by-value, call-by-reference\n",
    "\n",
    "def my_func(tmp_value, tmp_list):\n",
    "    tmp_value = tmp_value + 100\n",
    "    tmp_list.append(100)\n",
    "    \n",
    "data_x = 10\n",
    "data_list = [10,20]\n",
    "\n",
    "my_func(data_x, data_list)\n",
    "print('data_x : {}'.format(data_x)) # 숫자, 문자열, tuple은 값이 변하지 않는다. 값 복사의 개념\n",
    "print('data_list : {}'.format(data_list)) # List, Dict은 변한다."
   ]
  },
  {
   "cell_type": "code",
   "execution_count": null,
   "metadata": {},
   "outputs": [],
   "source": [
    "# local variable, global variable\n",
    "\n",
    "# tmp를 함수 안에다 선언해야 한다. 혹은 global로 선언\n",
    "# 가능하면 안쓰는것이 좋다.\n",
    "\n",
    "tmp = 100\n",
    "def my_func(x):\n",
    "    global tmp\n",
    "    tmp = tmp + x\n",
    "    return tmp\n",
    "\n",
    "print(my_func(20))"
   ]
  },
  {
   "cell_type": "code",
   "execution_count": 26,
   "metadata": {},
   "outputs": [
    {
     "name": "stdout",
     "output_type": "stream",
     "text": [
      "False\n",
      "True\n",
      "4\n"
     ]
    }
   ],
   "source": [
    "#all() 함수\n",
    "a = [3,14,0, False]\n",
    "print(all(a))\n",
    "\n",
    "# any() 함수\n",
    "print(any(a))\n",
    "\n",
    "#len() 함수\n",
    "print(len(a))"
   ]
  },
  {
   "cell_type": "code",
   "execution_count": 29,
   "metadata": {},
   "outputs": [
    {
     "name": "stdout",
     "output_type": "stream",
     "text": [
      "60\n"
     ]
    }
   ],
   "source": [
    "#lambda\n",
    "\n",
    "f = lambda a,b,c : a + b + c\n",
    "\n",
    "print(f(10,20,30))"
   ]
  },
  {
   "cell_type": "code",
   "execution_count": 47,
   "metadata": {},
   "outputs": [
    {
     "name": "stdout",
     "output_type": "stream",
     "text": [
      "김길동\n"
     ]
    }
   ],
   "source": [
    "class Student(object): #()안은 상속.\n",
    "    # Initializer (생성자)\n",
    "    def __init__(self, name, dept, num, grade):\n",
    "        self.name = name\n",
    "        self.dept = dept\n",
    "        self.num = num\n",
    "        self.grade = grade\n",
    "        \n",
    "# Instance를 만들어 보자!(객체를 만들어보자)\n",
    "students = []\n",
    "students.append(Student('홍길동', '철학', '2009', 3.0))\n",
    "students.append(Student('김길동', '문학', '2011', 4.0)) \n",
    "\n",
    "print(students[1].name)"
   ]
  },
  {
   "cell_type": "code",
   "execution_count": 53,
   "metadata": {},
   "outputs": [
    {
     "name": "stdout",
     "output_type": "stream",
     "text": [
      "이름 : 강감찬, 학과 : 경영학과\n"
     ]
    }
   ],
   "source": [
    "class Student(object): #()안은 상속.\n",
    "    # Initializer (생성자)\n",
    "    def __init__(self, name, dept, num, grade):\n",
    "        self.name = name\n",
    "        self.dept = dept\n",
    "        self.num = num\n",
    "        self.grade = grade\n",
    "    \n",
    "    def get_stu_info(self):\n",
    "        return '이름 : {}, 학과 : {}'.format(self.name, self.dept)\n",
    "    \n",
    "stu1 = Student('강감찬','경영학과','2020', 3.4)\n",
    "print(stu1.get_stu_info())"
   ]
  },
  {
   "cell_type": "code",
   "execution_count": 75,
   "metadata": {},
   "outputs": [
    {
     "name": "stdout",
     "output_type": "stream",
     "text": [
      "abc\"abc\"abdd\n",
      "20\n",
      "봄\n",
      "여름\n",
      "가을\n",
      "겨울\n"
     ]
    }
   ],
   "source": [
    "# width = int(input('너비를 임력하세요'))\n",
    "# height = int(input('높이를 입력하세요'))\n",
    "# print(width * height)\n",
    "print(\"abc\\\"abc\\\"abdd\")\n",
    "a = 10 * \\\n",
    "2\n",
    "print(a)\n",
    "\n",
    "season = ['봄','여름','가을','겨울']\n",
    "for a in season:\n",
    "    print(a)\n"
   ]
  }
 ],
 "metadata": {
  "kernelspec": {
   "display_name": "Python [conda env:data_env] *",
   "language": "python",
   "name": "conda-env-data_env-py"
  },
  "language_info": {
   "codemirror_mode": {
    "name": "ipython",
    "version": 3
   },
   "file_extension": ".py",
   "mimetype": "text/x-python",
   "name": "python",
   "nbconvert_exporter": "python",
   "pygments_lexer": "ipython3",
   "version": "3.7.9"
  }
 },
 "nbformat": 4,
 "nbformat_minor": 4
}
