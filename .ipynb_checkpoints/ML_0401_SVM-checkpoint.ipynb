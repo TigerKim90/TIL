{
 "cells": [
  {
   "cell_type": "code",
   "execution_count": 1,
   "metadata": {
    "scrolled": true
   },
   "outputs": [
    {
     "ename": "ModuleNotFoundError",
     "evalue": "No module named 'mlxtend'",
     "output_type": "error",
     "traceback": [
      "\u001b[1;31m---------------------------------------------------------------------------\u001b[0m",
      "\u001b[1;31mModuleNotFoundError\u001b[0m                       Traceback (most recent call last)",
      "\u001b[1;32m<ipython-input-1-7127bc240741>\u001b[0m in \u001b[0;36m<module>\u001b[1;34m\u001b[0m\n\u001b[0;32m      4\u001b[0m \u001b[1;32mimport\u001b[0m \u001b[0mmatplotlib\u001b[0m\u001b[1;33m.\u001b[0m\u001b[0mpyplot\u001b[0m \u001b[1;32mas\u001b[0m \u001b[0mplt\u001b[0m\u001b[1;33m\u001b[0m\u001b[1;33m\u001b[0m\u001b[0m\n\u001b[0;32m      5\u001b[0m \u001b[1;32mimport\u001b[0m \u001b[0mwarnings\u001b[0m\u001b[1;33m\u001b[0m\u001b[1;33m\u001b[0m\u001b[0m\n\u001b[1;32m----> 6\u001b[1;33m \u001b[1;32mfrom\u001b[0m \u001b[0mmlxtend\u001b[0m\u001b[1;33m.\u001b[0m\u001b[0mplotting\u001b[0m \u001b[1;32mimport\u001b[0m \u001b[0mplot_decision_regions\u001b[0m\u001b[1;33m\u001b[0m\u001b[1;33m\u001b[0m\u001b[0m\n\u001b[0m\u001b[0;32m      7\u001b[0m \u001b[1;33m\u001b[0m\u001b[0m\n\u001b[0;32m      8\u001b[0m \u001b[0mwarnings\u001b[0m\u001b[1;33m.\u001b[0m\u001b[0mfilterwarnings\u001b[0m\u001b[1;33m(\u001b[0m\u001b[0maction\u001b[0m\u001b[1;33m=\u001b[0m\u001b[1;34m'ignore'\u001b[0m\u001b[1;33m)\u001b[0m\u001b[1;33m\u001b[0m\u001b[1;33m\u001b[0m\u001b[0m\n",
      "\u001b[1;31mModuleNotFoundError\u001b[0m: No module named 'mlxtend'"
     ]
    }
   ],
   "source": [
    "import numpy as np\n",
    "from sklearn.svm import SVC\n",
    "import mglearn\n",
    "import matplotlib.pyplot as plt\n",
    "import warnings\n",
    "from mlxtend.plotting import plot_decision_regions\n",
    "\n",
    "warnings.filterwarnings(action='ignore')\n",
    "\n",
    "# training data set\n",
    "x_data, t_data = mglearn.datasets.make_forge()\n",
    "\n",
    "# t_data가 0인 경우 red 점으로 표현\n",
    "# t_data가 1인 경우 blue 점으로 표현\n",
    "\n",
    "# red점에 대한 좌표값만 들고와요!\n",
    "x_data_red = x_data[t_data==0]\n",
    "# blue점에 대한 좌표값만 들고와요!\n",
    "x_data_blue = x_data[t_data==1]\n",
    "\n",
    "plt.scatter(x_data_red[:,0],x_data_red[:,1], color='r')\n",
    "plt.scatter(x_data_blue[:,0],x_data_blue[:,1], color='b')\n",
    "plt.show()\n",
    "\n",
    "# model\n",
    "model = SVC(kernel='linear',\n",
    "            C=1)\n",
    "model.fit(x_data,\n",
    "          t_data)\n",
    "\n",
    "print(model.support_vectors_)\n",
    "\n",
    "plot_decision_regions(X=x_data,\n",
    "                      y=t_data,\n",
    "                      clf=model,\n",
    "                      legend=2)\n",
    "plt.show()"
   ]
  },
  {
   "cell_type": "code",
   "execution_count": null,
   "metadata": {},
   "outputs": [],
   "source": [
    "# BMI예제를 이용해서 SVC 모델을 구현하고 Decision boundaries를\n",
    "# 구해보아요!\n",
    "# BMI의 총 데이터수는 20,000개인데 너무 많아서 각 label별로 30개만\n",
    "# 샘플로 추출해서 이용해보아요!\n",
    "# SVC를 이용해서 학습시키고 decision boundaries를 그려보아요!\n",
    "\n",
    "# 모든 데이터를 이용해서 학습하고 \n",
    "# 정확도가 얼마나 나오는지도 확인해 보아요!\n",
    "# 이전에 Tensorflow로 구현한 예제와 정확도를 비교해 보아요!\n",
    "\n"
   ]
  }
 ],
 "metadata": {
  "kernelspec": {
   "display_name": "Python [conda env:data_env] *",
   "language": "python",
   "name": "conda-env-data_env-py"
  },
  "language_info": {
   "codemirror_mode": {
    "name": "ipython",
    "version": 3
   },
   "file_extension": ".py",
   "mimetype": "text/x-python",
   "name": "python",
   "nbconvert_exporter": "python",
   "pygments_lexer": "ipython3",
   "version": "3.7.9"
  }
 },
 "nbformat": 4,
 "nbformat_minor": 4
}
